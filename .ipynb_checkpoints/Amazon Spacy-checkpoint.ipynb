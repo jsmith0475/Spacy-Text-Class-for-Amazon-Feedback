{
 "cells": [
  {
   "cell_type": "markdown",
   "id": "63c560a1-e68e-481f-a363-f7966af96c5d",
   "metadata": {},
   "source": [
    "Alexa Product Text Classification\n",
    "\n",
    "Article: https://www.dataquest.io/blog/tutorial-text-classification-in-python-using-spacy/\n",
    "\n",
    "Free Spacy Course: http://spacy.pythonhumanities.com/intro.html\n",
    "\n",
    "Based on work by YouTuber: Creating a text classification model in spacy 3x : https://www.youtube.com/watch?v=7PD48PFL9VQ"
   ]
  },
  {
   "cell_type": "code",
   "execution_count": 1,
   "id": "c78579ca-e617-4ddf-94cc-e616b8fb1f42",
   "metadata": {},
   "outputs": [
    {
     "data": {
      "text/html": [
       "<div align=\"center\">\n",
       "<iframe width=\"560\" height=\"315\" src=\"https://www.youtube.com/embed/7PD48PFL9VQ\" title=\"YouTube video player\" frameborder=\"0\" allow=\"accelerometer; autoplay; clipboard-write; encrypted-media; gyroscope; picture-in-picture\" allowfullscreen></iframe>\n",
       "</div>\n"
      ],
      "text/plain": [
       "<IPython.core.display.HTML object>"
      ]
     },
     "metadata": {},
     "output_type": "display_data"
    }
   ],
   "source": [
    "%%html\n",
    "<div align=\"center\">\n",
    "<iframe width=\"560\" height=\"315\" src=\"https://www.youtube.com/embed/7PD48PFL9VQ\" title=\"YouTube video player\" frameborder=\"0\" allow=\"accelerometer; autoplay; clipboard-write; encrypted-media; gyroscope; picture-in-picture\" allowfullscreen></iframe>\n",
    "</div>"
   ]
  },
  {
   "cell_type": "markdown",
   "id": "f1a8d217-406a-4a4d-92ee-e3844be818f8",
   "metadata": {},
   "source": [
    "Kaggle dataset: https://www.kaggle.com/datasets/sid321axn/amazon-alexa-reviews\n",
    "\n",
    "Five Columns:\n",
    "- rating\n",
    "- date\n",
    "- variation\n",
    "- verified_reviews\n",
    "- feedback"
   ]
  },
  {
   "cell_type": "code",
   "execution_count": 2,
   "id": "fbd4efc0-064c-4298-9992-b04b07cf643f",
   "metadata": {},
   "outputs": [],
   "source": [
    "import spacy\n",
    "import pandas as pd\n",
    "from sklearn.feature_extraction.text import CountVectorizer, TfidfVectorizer\n",
    "from sklearn.base import TransformerMixin\n",
    "from sklearn.pipeline import Pipeline"
   ]
  },
  {
   "cell_type": "markdown",
   "id": "43d659cc-bec3-49ad-8fbe-07c9bbafe5a9",
   "metadata": {},
   "source": [
    "## LOAD DATA"
   ]
  },
  {
   "cell_type": "code",
   "execution_count": 3,
   "id": "07da487b-c93f-443b-8041-c176553ba700",
   "metadata": {},
   "outputs": [],
   "source": [
    "# Loading TSV file\n",
    "df_amazon = pd.read_csv (\"data/amazon_alexa.tsv\", sep=\"\\t\")"
   ]
  },
  {
   "cell_type": "code",
   "execution_count": 4,
   "id": "e6bdafcf-8eeb-416e-99cc-c14413bb6a69",
   "metadata": {},
   "outputs": [
    {
     "name": "stdout",
     "output_type": "stream",
     "text": [
      "<class 'pandas.core.frame.DataFrame'>\n",
      "RangeIndex: 3150 entries, 0 to 3149\n",
      "Data columns (total 5 columns):\n",
      " #   Column            Non-Null Count  Dtype \n",
      "---  ------            --------------  ----- \n",
      " 0   rating            3150 non-null   int64 \n",
      " 1   date              3150 non-null   object\n",
      " 2   variation         3150 non-null   object\n",
      " 3   verified_reviews  3150 non-null   object\n",
      " 4   feedback          3150 non-null   int64 \n",
      "dtypes: int64(2), object(3)\n",
      "memory usage: 123.2+ KB\n"
     ]
    }
   ],
   "source": [
    "df_amazon.info()"
   ]
  },
  {
   "cell_type": "code",
   "execution_count": 4,
   "id": "54e1feb4-5551-4d57-9b8f-e60a5d720453",
   "metadata": {},
   "outputs": [
    {
     "data": {
      "text/html": [
       "<div>\n",
       "<style scoped>\n",
       "    .dataframe tbody tr th:only-of-type {\n",
       "        vertical-align: middle;\n",
       "    }\n",
       "\n",
       "    .dataframe tbody tr th {\n",
       "        vertical-align: top;\n",
       "    }\n",
       "\n",
       "    .dataframe thead th {\n",
       "        text-align: right;\n",
       "    }\n",
       "</style>\n",
       "<table border=\"1\" class=\"dataframe\">\n",
       "  <thead>\n",
       "    <tr style=\"text-align: right;\">\n",
       "      <th></th>\n",
       "      <th>rating</th>\n",
       "      <th>date</th>\n",
       "      <th>variation</th>\n",
       "      <th>verified_reviews</th>\n",
       "      <th>feedback</th>\n",
       "    </tr>\n",
       "  </thead>\n",
       "  <tbody>\n",
       "    <tr>\n",
       "      <th>0</th>\n",
       "      <td>5</td>\n",
       "      <td>31-Jul-18</td>\n",
       "      <td>Charcoal Fabric</td>\n",
       "      <td>Love my Echo!</td>\n",
       "      <td>1</td>\n",
       "    </tr>\n",
       "    <tr>\n",
       "      <th>1</th>\n",
       "      <td>5</td>\n",
       "      <td>31-Jul-18</td>\n",
       "      <td>Charcoal Fabric</td>\n",
       "      <td>Loved it!</td>\n",
       "      <td>1</td>\n",
       "    </tr>\n",
       "    <tr>\n",
       "      <th>2</th>\n",
       "      <td>4</td>\n",
       "      <td>31-Jul-18</td>\n",
       "      <td>Walnut Finish</td>\n",
       "      <td>Sometimes while playing a game, you can answer...</td>\n",
       "      <td>1</td>\n",
       "    </tr>\n",
       "    <tr>\n",
       "      <th>3</th>\n",
       "      <td>5</td>\n",
       "      <td>31-Jul-18</td>\n",
       "      <td>Charcoal Fabric</td>\n",
       "      <td>I have had a lot of fun with this thing. My 4 ...</td>\n",
       "      <td>1</td>\n",
       "    </tr>\n",
       "    <tr>\n",
       "      <th>4</th>\n",
       "      <td>5</td>\n",
       "      <td>31-Jul-18</td>\n",
       "      <td>Charcoal Fabric</td>\n",
       "      <td>Music</td>\n",
       "      <td>1</td>\n",
       "    </tr>\n",
       "  </tbody>\n",
       "</table>\n",
       "</div>"
      ],
      "text/plain": [
       "   rating       date         variation  \\\n",
       "0       5  31-Jul-18  Charcoal Fabric    \n",
       "1       5  31-Jul-18  Charcoal Fabric    \n",
       "2       4  31-Jul-18    Walnut Finish    \n",
       "3       5  31-Jul-18  Charcoal Fabric    \n",
       "4       5  31-Jul-18  Charcoal Fabric    \n",
       "\n",
       "                                    verified_reviews  feedback  \n",
       "0                                      Love my Echo!         1  \n",
       "1                                          Loved it!         1  \n",
       "2  Sometimes while playing a game, you can answer...         1  \n",
       "3  I have had a lot of fun with this thing. My 4 ...         1  \n",
       "4                                              Music         1  "
      ]
     },
     "execution_count": 4,
     "metadata": {},
     "output_type": "execute_result"
    }
   ],
   "source": [
    "# Top 5 records\n",
    "df_amazon.head()"
   ]
  },
  {
   "cell_type": "code",
   "execution_count": 5,
   "id": "99f9db67-167a-45f1-a190-d61b727a699a",
   "metadata": {},
   "outputs": [
    {
     "data": {
      "text/plain": [
       "(3150, 5)"
      ]
     },
     "execution_count": 5,
     "metadata": {},
     "output_type": "execute_result"
    }
   ],
   "source": [
    "# shape of dataframe\n",
    "df_amazon.shape"
   ]
  },
  {
   "cell_type": "code",
   "execution_count": 6,
   "id": "e6017d72-91bd-4251-895c-48d8bd2fd849",
   "metadata": {},
   "outputs": [
    {
     "data": {
      "text/plain": [
       "1    2893\n",
       "0     257\n",
       "Name: feedback, dtype: int64"
      ]
     },
     "execution_count": 6,
     "metadata": {},
     "output_type": "execute_result"
    }
   ],
   "source": [
    "# Feedback Value count\n",
    "df_amazon.feedback.value_counts()"
   ]
  },
  {
   "cell_type": "markdown",
   "id": "164a3b51-32a4-4f5f-b232-9088d2c1b163",
   "metadata": {},
   "source": [
    "## CREATE TRAIN AND TEST DATA SETS"
   ]
  },
  {
   "cell_type": "code",
   "execution_count": 7,
   "id": "783e6e5b-7089-4dab-959f-f4f2c208d2ae",
   "metadata": {},
   "outputs": [
    {
     "data": {
      "text/html": [
       "<div>\n",
       "<style scoped>\n",
       "    .dataframe tbody tr th:only-of-type {\n",
       "        vertical-align: middle;\n",
       "    }\n",
       "\n",
       "    .dataframe tbody tr th {\n",
       "        vertical-align: top;\n",
       "    }\n",
       "\n",
       "    .dataframe thead th {\n",
       "        text-align: right;\n",
       "    }\n",
       "</style>\n",
       "<table border=\"1\" class=\"dataframe\">\n",
       "  <thead>\n",
       "    <tr style=\"text-align: right;\">\n",
       "      <th></th>\n",
       "      <th>rating</th>\n",
       "      <th>date</th>\n",
       "      <th>variation</th>\n",
       "      <th>verified_reviews</th>\n",
       "      <th>feedback</th>\n",
       "    </tr>\n",
       "  </thead>\n",
       "  <tbody>\n",
       "    <tr>\n",
       "      <th>0</th>\n",
       "      <td>5</td>\n",
       "      <td>31-Jul-18</td>\n",
       "      <td>Charcoal Fabric</td>\n",
       "      <td>Love my Echo!</td>\n",
       "      <td>1</td>\n",
       "    </tr>\n",
       "    <tr>\n",
       "      <th>1</th>\n",
       "      <td>5</td>\n",
       "      <td>31-Jul-18</td>\n",
       "      <td>Charcoal Fabric</td>\n",
       "      <td>Loved it!</td>\n",
       "      <td>1</td>\n",
       "    </tr>\n",
       "    <tr>\n",
       "      <th>2</th>\n",
       "      <td>4</td>\n",
       "      <td>31-Jul-18</td>\n",
       "      <td>Walnut Finish</td>\n",
       "      <td>Sometimes while playing a game, you can answer...</td>\n",
       "      <td>1</td>\n",
       "    </tr>\n",
       "    <tr>\n",
       "      <th>3</th>\n",
       "      <td>5</td>\n",
       "      <td>31-Jul-18</td>\n",
       "      <td>Charcoal Fabric</td>\n",
       "      <td>I have had a lot of fun with this thing. My 4 ...</td>\n",
       "      <td>1</td>\n",
       "    </tr>\n",
       "    <tr>\n",
       "      <th>4</th>\n",
       "      <td>5</td>\n",
       "      <td>31-Jul-18</td>\n",
       "      <td>Charcoal Fabric</td>\n",
       "      <td>Music</td>\n",
       "      <td>1</td>\n",
       "    </tr>\n",
       "  </tbody>\n",
       "</table>\n",
       "</div>"
      ],
      "text/plain": [
       "   rating       date         variation  \\\n",
       "0       5  31-Jul-18  Charcoal Fabric    \n",
       "1       5  31-Jul-18  Charcoal Fabric    \n",
       "2       4  31-Jul-18    Walnut Finish    \n",
       "3       5  31-Jul-18  Charcoal Fabric    \n",
       "4       5  31-Jul-18  Charcoal Fabric    \n",
       "\n",
       "                                    verified_reviews  feedback  \n",
       "0                                      Love my Echo!         1  \n",
       "1                                          Loved it!         1  \n",
       "2  Sometimes while playing a game, you can answer...         1  \n",
       "3  I have had a lot of fun with this thing. My 4 ...         1  \n",
       "4                                              Music         1  "
      ]
     },
     "execution_count": 7,
     "metadata": {},
     "output_type": "execute_result"
    }
   ],
   "source": [
    "df_amazon.head()"
   ]
  },
  {
   "cell_type": "code",
   "execution_count": 8,
   "id": "050ba840-d2b1-4eb8-abc7-813bd1481bc5",
   "metadata": {},
   "outputs": [],
   "source": [
    "from sklearn.model_selection import train_test_split"
   ]
  },
  {
   "cell_type": "code",
   "execution_count": 9,
   "id": "01ac8880-b949-4b5f-83af-3a76a2e3a712",
   "metadata": {},
   "outputs": [],
   "source": [
    "X_train, X_valid = train_test_split(df_amazon, test_size = 0.3, random_state = 1)"
   ]
  },
  {
   "cell_type": "code",
   "execution_count": 10,
   "id": "f982f593-b0e1-4b0d-915e-5e4b49986561",
   "metadata": {},
   "outputs": [
    {
     "name": "stdout",
     "output_type": "stream",
     "text": [
      "(2205, 5)\n",
      "(945, 5)\n"
     ]
    }
   ],
   "source": [
    "print(X_train.shape)\n",
    "print(X_valid.shape)"
   ]
  },
  {
   "cell_type": "markdown",
   "id": "1ebb274a-6ad4-436b-a36b-6f61bff4f3ed",
   "metadata": {
    "tags": []
   },
   "source": [
    "## Select the reviews and feedback columns, and convert dataframe to list"
   ]
  },
  {
   "cell_type": "code",
   "execution_count": 11,
   "id": "b1b99738-8200-4fb3-bdd1-b50ae024a36a",
   "metadata": {},
   "outputs": [],
   "source": [
    "train = X_train[[\"verified_reviews\", \"feedback\"]].to_records(index=False)"
   ]
  },
  {
   "cell_type": "code",
   "execution_count": 12,
   "id": "ad39e518-0a66-412a-b8df-86bc4a23f33a",
   "metadata": {},
   "outputs": [
    {
     "data": {
      "text/plain": [
       "('Works well with optional cameras.  Conferencing is good.  Still feel like Bezos is spying on me.', 1)"
      ]
     },
     "execution_count": 12,
     "metadata": {},
     "output_type": "execute_result"
    }
   ],
   "source": [
    "train[0]"
   ]
  },
  {
   "cell_type": "code",
   "execution_count": 13,
   "id": "9560f713-f018-4a37-a069-3f789d7ae600",
   "metadata": {},
   "outputs": [],
   "source": [
    "valid = X_valid[[\"verified_reviews\", \"feedback\"]].to_records(index=False)"
   ]
  },
  {
   "cell_type": "code",
   "execution_count": 14,
   "id": "a163f8bf-441a-4ddf-8a55-bf337a204b48",
   "metadata": {},
   "outputs": [
    {
     "data": {
      "text/plain": [
       "('I’m having trouble with it, the alarm most of times doesn’t work, the timer doesn’t ends... and Alexa keeps saying she is unavailable.', 1)"
      ]
     },
     "execution_count": 14,
     "metadata": {},
     "output_type": "execute_result"
    }
   ],
   "source": [
    "valid[0]"
   ]
  },
  {
   "cell_type": "code",
   "execution_count": null,
   "id": "46935c6b-5ef8-4abd-828e-b718defd3e42",
   "metadata": {},
   "outputs": [],
   "source": []
  },
  {
   "cell_type": "markdown",
   "id": "a2885034-62d8-4d07-bd6b-ed37a47343f8",
   "metadata": {},
   "source": [
    "## SPACY WORK"
   ]
  },
  {
   "cell_type": "code",
   "execution_count": 15,
   "id": "db8d842c-f6e2-4be5-894e-7cdbe021760b",
   "metadata": {},
   "outputs": [],
   "source": [
    "from spacy.tokens import DocBin\n",
    "import spacy"
   ]
  },
  {
   "cell_type": "code",
   "execution_count": 16,
   "id": "e535522b-68da-453a-8ebd-9e3fec035dab",
   "metadata": {},
   "outputs": [],
   "source": [
    "def make_docs(data):\n",
    "    docs = []\n",
    "    for doc, label in nlp.pipe(data, as_tuples=True):\n",
    "        if label == 0:\n",
    "            doc.cats[\"postive\"]=0\n",
    "            doc.cats[\"negative\"]=1\n",
    "        else:\n",
    "            doc.cats[\"postive\"]=1\n",
    "            doc.cats[\"negative\"]=0\n",
    "        docs.append(doc)\n",
    "    return (docs)\n",
    "              "
   ]
  },
  {
   "cell_type": "code",
   "execution_count": 17,
   "id": "33a850f8-1126-48c8-bab2-02172951736b",
   "metadata": {},
   "outputs": [],
   "source": [
    "nlp = spacy.load(\"en_core_web_sm\")"
   ]
  },
  {
   "cell_type": "code",
   "execution_count": 18,
   "id": "2d918172-4f6c-4716-acda-503ffa15657f",
   "metadata": {
    "tags": []
   },
   "outputs": [],
   "source": [
    "train_docs = make_docs(train)\n",
    "doc_bin = DocBin(docs=train_docs)\n",
    "doc_bin.to_disk(\"./data/train.spacy\")\n",
    "\n",
    "valid_docs = make_docs(valid)\n",
    "doc_bin = DocBin(docs=valid_docs)\n",
    "doc_bin.to_disk(\"./data/valid.spacy\")"
   ]
  },
  {
   "cell_type": "code",
   "execution_count": 19,
   "id": "2943deec-73f1-42a6-8e40-3bb521744251",
   "metadata": {
    "tags": []
   },
   "outputs": [
    {
     "name": "stdout",
     "output_type": "stream",
     "text": [
      "Still getting used to Alexa, but I think she's a keeper!\n",
      "{'postive': 1, 'negative': 0}\n",
      "I bought this to replace a &#34;Dot&#34; in my living room. Speaker is slightly better. It hears me better over the TV. Unfortunately, it doesn't understand or respond to my requests as well as the Dot. I frequently have to request 2 or 3 times to get it to do what I want. The Dot usually does exactly what I want on the first request. I don't consider it an upgrade.\n",
      "{'postive': 1, 'negative': 0}\n"
     ]
    }
   ],
   "source": [
    "print(train_docs[1])\n",
    "print(train_docs[1].cats)\n",
    "print(valid_docs[1])\n",
    "print(valid_docs[1].cats)"
   ]
  },
  {
   "cell_type": "markdown",
   "id": "0035b965-ea8d-423d-ad5a-e799182cb652",
   "metadata": {
    "tags": []
   },
   "source": [
    "## TRAIN"
   ]
  },
  {
   "cell_type": "markdown",
   "id": "03937125-ae5b-4276-a560-73f2b799ab23",
   "metadata": {},
   "source": [
    "Spacy Config File: https://spacy.io/usage/training#quickstart\n",
    "\n",
    "This uses textcat_multilabel since we want to evaluate the strength of multiple labels. If the goal is to have one and only one result, then use textcat.\n",
    "\n",
    "https://spacy.io/api/textcategorizer"
   ]
  },
  {
   "cell_type": "code",
   "execution_count": 35,
   "id": "37879b42-69b5-440f-8d15-46810b44375a",
   "metadata": {},
   "outputs": [
    {
     "name": "stdout",
     "output_type": "stream",
     "text": [
      "\u001b[38;5;2m✔ Auto-filled config with all values\u001b[0m\n",
      "\u001b[38;5;2m✔ Saved config\u001b[0m\n",
      "config.cfg\n",
      "You can now add your data and train your pipeline:\n",
      "python -m spacy train config.cfg --paths.train ./train.spacy --paths.dev ./dev.spacy\n"
     ]
    }
   ],
   "source": [
    "# Executed once in the project directory\n",
    "% python -m spacy init fill-config ./base_config.cfg ./config.cfg"
   ]
  },
  {
   "cell_type": "code",
   "execution_count": 37,
   "id": "6b1bd20a-a5cd-4d64-b28e-7be2aa66ee64",
   "metadata": {},
   "outputs": [
    {
     "name": "stdout",
     "output_type": "stream",
     "text": [
      "\u001b[38;5;4mℹ Saving to output directory: output\u001b[0m\n",
      "\u001b[38;5;4mℹ Using CPU\u001b[0m\n",
      "\u001b[1m\n",
      "=========================== Initializing pipeline ===========================\u001b[0m\n",
      "[2022-04-07 06:58:09,280] [INFO] Set up nlp object from config\n",
      "[2022-04-07 06:58:09,284] [INFO] Pipeline: ['textcat_multilabel']\n",
      "[2022-04-07 06:58:09,285] [INFO] Created vocabulary\n",
      "[2022-04-07 06:58:09,286] [INFO] Finished initializing nlp object\n",
      "[2022-04-07 06:58:10,068] [INFO] Initialized pipeline components: ['textcat_multilabel']\n",
      "\u001b[38;5;2m✔ Initialized pipeline\u001b[0m\n",
      "\u001b[1m\n",
      "============================= Training pipeline =============================\u001b[0m\n",
      "\u001b[38;5;4mℹ Pipeline: ['textcat_multilabel']\u001b[0m\n",
      "\u001b[38;5;4mℹ Initial learn rate: 0.001\u001b[0m\n",
      "E    #       LOSS TEXTC...  CATS_SCORE  SCORE \n",
      "---  ------  -------------  ----------  ------\n",
      "  0       0           0.02       36.74    0.37\n",
      "  0     200          22.05       43.27    0.43\n",
      "  0     400          16.32       44.99    0.45\n",
      "  1     600          16.48       47.49    0.47\n",
      "  1     800          10.67       52.71    0.53\n",
      "  2    1000           1.16       61.76    0.62\n",
      "  3    1200           4.49       86.55    0.87\n",
      "  4    1400           0.24       83.84    0.84\n",
      "  5    1600           0.17       85.54    0.86\n",
      "  6    1800           0.07       85.35    0.85\n",
      "  8    2000           0.05       86.17    0.86\n",
      " 11    2200           0.02       87.09    0.87\n",
      " 13    2400           0.01       87.50    0.88\n",
      " 16    2600           0.01       87.94    0.88\n",
      " 19    2800           0.01       88.00    0.88\n",
      " 22    3000           0.01       88.45    0.88\n",
      " 25    3200           0.01       88.92    0.89\n",
      " 28    3400           0.01       89.37    0.89\n",
      " 31    3600           0.01       89.26    0.89\n",
      " 34    3800           0.01       89.65    0.90\n",
      " 37    4000           0.01       89.54    0.90\n",
      " 40    4200           0.01       89.67    0.90\n",
      " 43    4400           0.01       89.90    0.90\n",
      " 46    4600           0.01       90.40    0.90\n",
      " 49    4800           0.01       90.55    0.91\n",
      " 52    5000           0.01       90.74    0.91\n",
      " 55    5200           0.01       90.99    0.91\n",
      " 58    5400           0.01       91.12    0.91\n",
      " 61    5600           0.00       91.37    0.91\n",
      " 64    5800           0.00       91.11    0.91\n",
      " 67    6000           0.00       91.40    0.91\n",
      " 70    6200           0.01       91.57    0.92\n",
      " 73    6400           0.00       91.62    0.92\n",
      " 76    6600           0.01       91.65    0.92\n",
      " 79    6800           0.01       91.51    0.92\n",
      " 82    7000           0.00       91.64    0.92\n",
      " 85    7200           0.00       91.61    0.92\n",
      " 88    7400           0.00       91.67    0.92\n",
      " 91    7600           0.00       91.55    0.92\n",
      " 94    7800           0.00       91.80    0.92\n",
      " 97    8000           0.01       91.59    0.92\n",
      "100    8200           0.00       91.55    0.92\n",
      "103    8400           0.00       91.54    0.92\n",
      "106    8600           0.00       91.52    0.92\n",
      "109    8800           0.00       91.68    0.92\n",
      "112    9000           0.00       91.47    0.91\n",
      "115    9200           0.00       91.45    0.91\n",
      "118    9400           0.00       91.40    0.91\n",
      "\u001b[38;5;2m✔ Saved pipeline to output directory\u001b[0m\n",
      "output/model-last\n"
     ]
    }
   ],
   "source": [
    "# Executed each for each new nlp training\n",
    "!python -m spacy train config.cfg --output ./output"
   ]
  },
  {
   "cell_type": "markdown",
   "id": "28606436-fe28-4593-9d9f-4703af41a42d",
   "metadata": {},
   "source": [
    "## TEST"
   ]
  },
  {
   "cell_type": "code",
   "execution_count": 20,
   "id": "81e5ecf3-3e0d-4e32-a611-70f21def2928",
   "metadata": {},
   "outputs": [],
   "source": [
    "# Use the best model\n",
    "nlp = spacy.load(\"output/model-best\")"
   ]
  },
  {
   "cell_type": "code",
   "execution_count": 21,
   "id": "22e67046-16e5-4a82-be6d-426ab2245388",
   "metadata": {},
   "outputs": [
    {
     "data": {
      "text/plain": [
       "('I love my echo spot that my daughter and son in law got me for my birthday. Alexa wakes me each morning and plays music when I ask.', 1)"
      ]
     },
     "execution_count": 21,
     "metadata": {},
     "output_type": "execute_result"
    }
   ],
   "source": [
    "valid[10]"
   ]
  },
  {
   "cell_type": "code",
   "execution_count": 22,
   "id": "13db0c74-7b0b-49e5-a68f-31c6107a80fc",
   "metadata": {},
   "outputs": [],
   "source": [
    "doc = nlp(valid[10][0])"
   ]
  },
  {
   "cell_type": "code",
   "execution_count": 23,
   "id": "53185630-c41d-4f4f-b6b8-1985c3761a2f",
   "metadata": {},
   "outputs": [
    {
     "name": "stdout",
     "output_type": "stream",
     "text": [
      "{'postive': 0.9926413893699646, 'negative': 0.007193161174654961}\n"
     ]
    }
   ],
   "source": [
    "print(doc.cats)"
   ]
  },
  {
   "cell_type": "code",
   "execution_count": 24,
   "id": "ee4517eb-fb6d-4360-b7dc-2329dc9fd72d",
   "metadata": {},
   "outputs": [],
   "source": [
    "# Get the highest result from the test\n",
    "def fin_max(doc):\n",
    "    fin_max = max(doc.cats, key=doc.cats.get)\n",
    "    if fin_max == \"postive\":\n",
    "        fin_max_value = 1\n",
    "    else:\n",
    "        fin_max_value = 0\n",
    "    \n",
    "    return (fin_max, fin_max_value)"
   ]
  },
  {
   "cell_type": "code",
   "execution_count": 25,
   "id": "18aa71fc-0afc-4634-a7cc-7b06bcc96381",
   "metadata": {},
   "outputs": [
    {
     "data": {
      "text/plain": [
       "('postive', 1)"
      ]
     },
     "execution_count": 25,
     "metadata": {},
     "output_type": "execute_result"
    }
   ],
   "source": [
    "fin_max(doc)"
   ]
  },
  {
   "cell_type": "markdown",
   "id": "6b155523-6ee7-4357-8aff-1001aa929c15",
   "metadata": {},
   "source": [
    "## CHECK RESULTS FOR ENTIRE SET"
   ]
  },
  {
   "cell_type": "code",
   "execution_count": 26,
   "id": "fb0f1943-4f4c-4421-8d02-1907bcbe4599",
   "metadata": {},
   "outputs": [
    {
     "name": "stdout",
     "output_type": "stream",
     "text": [
      "(\"I bought this to replace a &#34;Dot&#34; in my living room. Speaker is slightly better. It hears me better over the TV. Unfortunately, it doesn't understand or respond to my requests as well as the Dot. I frequently have to request 2 or 3 times to get it to do what I want. The Dot usually does exactly what I want on the first request. I don't consider it an upgrade.\", 1)\n",
      "945\n"
     ]
    }
   ],
   "source": [
    "valid_list = valid.tolist()\n",
    "print(valid_list[1])\n",
    "print(len(valid_list))"
   ]
  },
  {
   "cell_type": "code",
   "execution_count": 27,
   "id": "c38e0b33-c5fc-469a-8686-cc344a63afd9",
   "metadata": {},
   "outputs": [
    {
     "name": "stdout",
     "output_type": "stream",
     "text": [
      "                                              Comment Feedback Prediction\n",
      "0   I’m having trouble with it, the alarm most of ...        1          1\n",
      "0   I bought this to replace a &#34;Dot&#34; in my...        1          1\n",
      "0   I bought it to go with my security camera syst...        1          0\n",
      "0                       Great product and works great        1          1\n",
      "0   Absolutely love it. After much persuasion from...        1          1\n",
      "..                                                ...      ...        ...\n",
      "0   I bought it for my sister and she hasn't had a...        1          1\n",
      "0   Doesn't work with my fairly new smart TV, but ...        1          1\n",
      "0                          My son loves his Echo Dot.        1          1\n",
      "0                                        Love the dot        1          1\n",
      "0   Supberb sound! Definitely worth the extra mone...        1          1\n",
      "\n",
      "[945 rows x 3 columns]\n"
     ]
    }
   ],
   "source": [
    "df = pd.DataFrame(columns=['Comment', 'Feedback', 'Prediction'])\n",
    "for tup in valid.tolist():\n",
    "    doc = nlp(tup[0])\n",
    "    _, best_prediction = fin_max(doc)\n",
    "    \n",
    "    df1 = pd.DataFrame({'Comment':[tup[0]],'Feedback':[tup[1]],'Prediction':[best_prediction]}) \n",
    "    df = pd.concat([df, df1])\n",
    "\n",
    "print(df)"
   ]
  },
  {
   "cell_type": "code",
   "execution_count": 39,
   "id": "f8c3f2d6-19bb-4e9e-ba34-8aa5e36ec890",
   "metadata": {},
   "outputs": [
    {
     "data": {
      "text/html": [
       "<div>\n",
       "<style scoped>\n",
       "    .dataframe tbody tr th:only-of-type {\n",
       "        vertical-align: middle;\n",
       "    }\n",
       "\n",
       "    .dataframe tbody tr th {\n",
       "        vertical-align: top;\n",
       "    }\n",
       "\n",
       "    .dataframe thead th {\n",
       "        text-align: right;\n",
       "    }\n",
       "</style>\n",
       "<table border=\"1\" class=\"dataframe\">\n",
       "  <thead>\n",
       "    <tr style=\"text-align: right;\">\n",
       "      <th></th>\n",
       "      <th>Comment</th>\n",
       "      <th>Feedback</th>\n",
       "      <th>Prediction</th>\n",
       "    </tr>\n",
       "  </thead>\n",
       "  <tbody>\n",
       "    <tr>\n",
       "      <th>0</th>\n",
       "      <td>I’m having trouble with it, the alarm most of ...</td>\n",
       "      <td>1</td>\n",
       "      <td>1</td>\n",
       "    </tr>\n",
       "    <tr>\n",
       "      <th>0</th>\n",
       "      <td>I bought this to replace a &amp;#34;Dot&amp;#34; in my...</td>\n",
       "      <td>1</td>\n",
       "      <td>1</td>\n",
       "    </tr>\n",
       "    <tr>\n",
       "      <th>0</th>\n",
       "      <td>I bought it to go with my security camera syst...</td>\n",
       "      <td>1</td>\n",
       "      <td>0</td>\n",
       "    </tr>\n",
       "    <tr>\n",
       "      <th>0</th>\n",
       "      <td>Great product and works great</td>\n",
       "      <td>1</td>\n",
       "      <td>1</td>\n",
       "    </tr>\n",
       "    <tr>\n",
       "      <th>0</th>\n",
       "      <td>Absolutely love it. After much persuasion from...</td>\n",
       "      <td>1</td>\n",
       "      <td>1</td>\n",
       "    </tr>\n",
       "  </tbody>\n",
       "</table>\n",
       "</div>"
      ],
      "text/plain": [
       "                                             Comment Feedback Prediction\n",
       "0  I’m having trouble with it, the alarm most of ...        1          1\n",
       "0  I bought this to replace a &#34;Dot&#34; in my...        1          1\n",
       "0  I bought it to go with my security camera syst...        1          0\n",
       "0                      Great product and works great        1          1\n",
       "0  Absolutely love it. After much persuasion from...        1          1"
      ]
     },
     "execution_count": 39,
     "metadata": {},
     "output_type": "execute_result"
    }
   ],
   "source": [
    "df.head()"
   ]
  },
  {
   "cell_type": "markdown",
   "id": "42311c87-a390-4434-9e33-6dfc214a0bbb",
   "metadata": {},
   "source": [
    "True Positive (TP): True positive represents the value of correct predictions of positives out of actual positive cases. \n",
    "\n",
    "False Positive (FP): False positive represents the value of incorrect positive predictions. This value represents the number of negatives (out of 64) which gets falsely predicted as positive. \n",
    "\n",
    "True Negative (TN): True negative represents the value of correct predictions of negatives out of actual negative cases. \n",
    "\n",
    "False Negative (FN): False negative represents the value of incorrect negative predictions. This value represents the number of positives (out of 107) which gets falsely predicted as negative. "
   ]
  },
  {
   "cell_type": "code",
   "execution_count": 38,
   "id": "18da60f8-da1d-4017-a509-2e2158189894",
   "metadata": {},
   "outputs": [
    {
     "name": "stdout",
     "output_type": "stream",
     "text": [
      "Predicted   0    1  All\n",
      "Actual                 \n",
      "0          39   34   73\n",
      "1           8  864  872\n",
      "All        47  898  945\n"
     ]
    }
   ],
   "source": [
    "# Build confusion matrix\n",
    "confusion_matrix = pd.crosstab(df['Feedback'], \n",
    "                               df['Prediction'], \n",
    "                               rownames=['Actual'], \n",
    "                               colnames=['Predicted'], \n",
    "                               margins = True)\n",
    "print (confusion_matrix)"
   ]
  },
  {
   "cell_type": "code",
   "execution_count": 30,
   "id": "d9fa353b-5712-4885-8fc0-0a6dbf7c4560",
   "metadata": {},
   "outputs": [],
   "source": [
    "import seaborn as sn\n",
    "import matplotlib.pyplot as plt"
   ]
  },
  {
   "cell_type": "code",
   "execution_count": 31,
   "id": "2ab1c70f-2dac-49fc-a92b-a41c82b59a14",
   "metadata": {},
   "outputs": [
    {
     "data": {
      "image/png": "[encoded data removed]",
      "text/plain": [
       "<Figure size 432x288 with 2 Axes>"
      ]
     },
     "metadata": {
      "needs_background": "light"
     },
     "output_type": "display_data"
    }
   ],
   "source": [
    "sn.heatmap(confusion_matrix, annot=True, fmt=\"d\", cmap=\"YlGnBu\")\n",
    "plt.show()"
   ]
  },
  {
   "cell_type": "markdown",
   "id": "52cdeb26-5bf4-4836-85e8-6f2a9a051c97",
   "metadata": {},
   "source": [
    "Precision Score = TP / (FP + TP)\n",
    "The precision score is a useful measure of the success of prediction when the classes are very imbalanced.\n",
    "\n",
    "Recall Score = TP / (FN + TP)\n",
    "Recall score is a useful measure of success of prediction when the classes are very imbalanced.\n",
    "\n",
    "Accuracy Score = (TP + TN)/ (TP + FN + TN + FP)\n",
    "Accuracy tells us how often we can expect our machine learning model will correctly predict an outcome out of the total number of times it made predictions. \n",
    "\n",
    "F1 Score = 2* Precision Score * Recall Score/ (Precision Score + Recall Score/)\n",
    "This is a useful measure of the model in the scenarios where one tries to optimize either of precision or recall score and as a result, the model performance suffers. The following represents the aspects relating to issues with optimizing either precision or recall score:\n",
    "\n",
    "Optimizing for recall helps with minimizing the chance of not detecting a malignant cancer. However, this comes at the cost of predicting malignant cancer in patients although the patients are healthy (a high number of FP).\n",
    "\n",
    "Optimize for precision helps with correctness if the patient has a malignant cancer. However, this comes at the cost of missing malignant cancer more frequently (a high number of FN)."
   ]
  },
  {
   "cell_type": "code",
   "execution_count": 32,
   "id": "f6bf2b0f-1aa4-4e71-a793-d9847c2de9f5",
   "metadata": {},
   "outputs": [],
   "source": [
    "def perf_scores(y_test, y_predict):\n",
    "    from sklearn.metrics import precision_score, recall_score, f1_score, accuracy_score\n",
    "    \n",
    "    precision_score_result = precision_score(y_test, y_predict)\n",
    "    recall_score_result = recall_score(y_test, y_predict)\n",
    "    accuracy_score_result = accuracy_score(y_test, y_predict)\n",
    "    f1_score_result = f1_score(y_test, y_predict)\n",
    "    \n",
    "    return (precision_score_result,\n",
    "            recall_score_result,\n",
    "            accuracy_score_result,\n",
    "            f1_score_result)"
   ]
  },
  {
   "cell_type": "code",
   "execution_count": 33,
   "id": "e7277c31-487b-4bdc-aecc-6cffdb337ff4",
   "metadata": {},
   "outputs": [],
   "source": [
    "a, b, c, d = perf_scores(df['Feedback'].tolist(),df['Prediction'].tolist())"
   ]
  },
  {
   "cell_type": "code",
   "execution_count": 34,
   "id": "4f3d8b0a-48cf-4f35-aba7-1a692f1f4582",
   "metadata": {},
   "outputs": [
    {
     "name": "stdout",
     "output_type": "stream",
     "text": [
      "Precision: 0.962 \n",
      " Recall: 0.991 \n",
      " Accuracy: 0.956 \n",
      " F1 Score: 0.976\n"
     ]
    }
   ],
   "source": [
    "print('Precision: %.3f \\n' % a, \n",
    "      'Recall: %.3f \\n' %b, \n",
    "      'Accuracy: %.3f \\n' %c,\n",
    "      'F1 Score: %.3f' %d )"
   ]
  },
  {
   "cell_type": "code",
   "execution_count": null,
   "id": "35ab8ef0-935b-438f-beb8-8a5d6cca4a7c",
   "metadata": {},
   "outputs": [],
   "source": []
  }
 ],
 "metadata": {
  "kernelspec": {
   "display_name": "Python 3 (ipykernel)",
   "language": "python",
   "name": "python3"
  },
  "language_info": {
   "codemirror_mode": {
    "name": "ipython",
    "version": 3
   },
   "file_extension": ".py",
   "mimetype": "text/x-python",
   "name": "python",
   "nbconvert_exporter": "python",
   "pygments_lexer": "ipython3",
   "version": "3.8.13"
  }
 },
 "nbformat": 4,
 "nbformat_minor": 5
}
